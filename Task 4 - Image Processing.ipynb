{
 "cells": [
  {
   "cell_type": "markdown",
   "metadata": {},
   "source": [
    "\"Summer - Task 04 👨🏻‍💻 "
   ]
  },
  {
   "cell_type": "markdown",
   "metadata": {},
   "source": [
    "🔅 Task 4.1\n",
    "📌 Create image by yourself Using Python Code "
   ]
  },
  {
   "cell_type": "code",
   "execution_count": 1,
   "metadata": {},
   "outputs": [],
   "source": [
    "import cv2\n",
    "import numpy as np"
   ]
  },
  {
   "cell_type": "code",
   "execution_count": 23,
   "metadata": {},
   "outputs": [],
   "source": [
    "# create_image function will Create a new blank image filled with some color\n",
    "def create_image(width, height, color=(0, 0, 0)):\n",
    " \n",
    "    image = np.zeros((height, width, 3), np.uint8)\n",
    "\n",
    "    # Since OpenCV uses BGR format for storing images we will first convert the color format \n",
    "    color = tuple(reversed(color))\n",
    "    # Fill image with color\n",
    "    image[:] = color\n",
    "\n",
    "    return image"
   ]
  },
  {
   "cell_type": "code",
   "execution_count": 24,
   "metadata": {},
   "outputs": [],
   "source": [
    "# Create a new blank image of some color\n",
    "width, height = 500, 500\n",
    "\n",
    "Blue = (25, 40, 90)\n",
    "image = create_image(width, height, color = Blue)"
   ]
  },
  {
   "cell_type": "code",
   "execution_count": 25,
   "metadata": {},
   "outputs": [],
   "source": [
    "# Show image\n",
    "cv2.imshow(\"Blank Image\", image)\n",
    "cv2.waitKey(0)\n",
    "cv2.destroyAllWindows()"
   ]
  },
  {
   "cell_type": "code",
   "execution_count": null,
   "metadata": {},
   "outputs": [],
   "source": []
  },
  {
   "cell_type": "markdown",
   "metadata": {},
   "source": [
    "🔅 Task 4.2\n",
    "📌 Take 2 image crop some part of both image and swap it. "
   ]
  },
  {
   "cell_type": "code",
   "execution_count": 4,
   "metadata": {},
   "outputs": [],
   "source": [
    "# Read both the images\n",
    "image1 = cv2.imread(\"img1.png\")\n",
    "image2 = cv2.imread(\"img2.png\")"
   ]
  },
  {
   "cell_type": "code",
   "execution_count": 5,
   "metadata": {},
   "outputs": [],
   "source": [
    "# Since we have to process this image their size should be same so we will resize them\n",
    "resized_image1 = cv2.resize(image1, (620, 420)) \n",
    "resized_image2 = cv2.resize(image2, (620, 420)) "
   ]
  },
  {
   "cell_type": "code",
   "execution_count": 6,
   "metadata": {},
   "outputs": [],
   "source": [
    "# Coordinates of the cropped boxes\n",
    "x1,y1,x2,y2 = 10,150,250,300"
   ]
  },
  {
   "cell_type": "code",
   "execution_count": 7,
   "metadata": {},
   "outputs": [],
   "source": [
    "# Crop images\n",
    "part1,part2  = resized_image1[x1:y1,x2:y2], resized_image2[x1:y1,x2:y2]"
   ]
  },
  {
   "cell_type": "code",
   "execution_count": 8,
   "metadata": {},
   "outputs": [],
   "source": [
    "# Swapping\n",
    "resized_image1[x1:y1,x2:y2], resized_image2[x1:y1,x2:y2] = part2,part1"
   ]
  },
  {
   "cell_type": "code",
   "execution_count": 9,
   "metadata": {},
   "outputs": [],
   "source": [
    "cv2.imshow('2',resized_image1)\n",
    "cv2.waitKey()\n",
    "cv2.destroyAllWindows()"
   ]
  },
  {
   "cell_type": "markdown",
   "metadata": {},
   "source": [
    "🔅 Task 4.3\n",
    "📌 Take 2 image and combine it to form single image."
   ]
  },
  {
   "cell_type": "code",
   "execution_count": 10,
   "metadata": {},
   "outputs": [],
   "source": [
    "# Since images are nothing but array of some integers we can combine them using:\n",
    "Combined_image = np.concatenate((resized_image1, resized_image2), axis=1)"
   ]
  },
  {
   "cell_type": "code",
   "execution_count": 11,
   "metadata": {},
   "outputs": [],
   "source": [
    "# Show Combined_image\n",
    "cv2.imshow('2',Combined_image)\n",
    "cv2.waitKey()\n",
    "cv2.destroyAllWindows()"
   ]
  },
  {
   "cell_type": "code",
   "execution_count": null,
   "metadata": {},
   "outputs": [],
   "source": []
  }
 ],
 "metadata": {
  "kernelspec": {
   "display_name": "Python 3",
   "language": "python",
   "name": "python3"
  },
  "language_info": {
   "codemirror_mode": {
    "name": "ipython",
    "version": 3
   },
   "file_extension": ".py",
   "mimetype": "text/x-python",
   "name": "python",
   "nbconvert_exporter": "python",
   "pygments_lexer": "ipython3",
   "version": "3.7.4"
  }
 },
 "nbformat": 4,
 "nbformat_minor": 2
}
